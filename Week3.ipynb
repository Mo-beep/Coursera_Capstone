{
 "cells": [
  {
   "cell_type": "markdown",
   "metadata": {},
   "source": [
    "# IBM Data Science Capstone Course "
   ]
  },
  {
   "cell_type": "markdown",
   "metadata": {},
   "source": [
    "## Week3 Part 1\n",
    "- Build a dataframe of the postal code of each neighborhood\n",
    "\n",
    "## Week3 Part 2\n",
    "- Toronto geolocation coordinates\n",
    "\n",
    "## Week3 Part 3\n",
    "- Explore and cluster the neighborhoods in Toronto"
   ]
  },
  {
   "cell_type": "markdown",
   "metadata": {},
   "source": [
    "### Week3 Part 1\n",
    "- Build a dataframe of the postal code of each neighborhood"
   ]
  },
  {
   "cell_type": "markdown",
   "metadata": {},
   "source": [
    "#### 1. Import libraries"
   ]
  },
  {
   "cell_type": "code",
   "execution_count": 5,
   "metadata": {},
   "outputs": [
    {
     "name": "stdout",
     "output_type": "stream",
     "text": [
      "Libraries imported.\n"
     ]
    }
   ],
   "source": [
    "import numpy as np # library to handle data in a vectorized manner\n",
    "\n",
    "import pandas as pd # library for data analsysis\n",
    "pd.set_option('display.max_columns', None)\n",
    "pd.set_option('display.max_rows', None)\n",
    "\n",
    "import json # library to handle JSON files\n",
    "\n",
    "#!conda install -c conda-forge geopy --yes # uncomment this line if you haven't completed the Foursquare API lab\n",
    "from geopy.geocoders import Nominatim # convert an address into latitude and longitude values\n",
    "\n",
    "import requests # library to handle requests\n",
    "from pandas.io.json import json_normalize # tranform JSON file into a pandas dataframe\n",
    "from bs4 import BeautifulSoup # library to parse HTML and XML documents\n",
    "\n",
    "# Matplotlib and associated plotting modules\n",
    "import matplotlib.cm as cm\n",
    "import matplotlib.colors as colors\n",
    "\n",
    "# import k-means from clustering stage\n",
    "from sklearn.cluster import KMeans\n",
    "\n",
    "#!conda install -c conda-forge folium=0.5.0 --yes # uncomment this line if you haven't completed the Foursquare API lab\n",
    "import folium # map rendering library\n",
    "\n",
    "print('Libraries imported.')"
   ]
  },
  {
   "cell_type": "markdown",
   "metadata": {},
   "source": [
    "#### 2. Scrape  data from Wikipedia page"
   ]
  },
  {
   "cell_type": "code",
   "execution_count": 3,
   "metadata": {},
   "outputs": [],
   "source": [
    "#send a GET request to the web page\n",
    "data_f=requests.get(\"https://en.wikipedia.org/wiki/List_of_postal_codes_of_Canada:_M\").text"
   ]
  },
  {
   "cell_type": "code",
   "execution_count": 7,
   "metadata": {},
   "outputs": [],
   "source": [
    "# parse data from the html into a beautifulsoup object\n",
    "soup_f = BeautifulSoup(data_f, 'html.parser')"
   ]
  },
  {
   "cell_type": "code",
   "execution_count": 8,
   "metadata": {},
   "outputs": [],
   "source": [
    "#three lists to store table data\n",
    "postalCodeList = []\n",
    "boroughList = []\n",
    "neighborhoodList = []"
   ]
  },
  {
   "cell_type": "markdown",
   "metadata": {},
   "source": [
    "#### Using BeautifulSoup"
   ]
  },
  {
   "cell_type": "code",
   "execution_count": 10,
   "metadata": {},
   "outputs": [],
   "source": [
    "# find the table\n",
    "soup_f.find('table').find_all('tr')\n",
    "\n",
    "# find all the rows of the table\n",
    "soup_f.find('table').find_all('tr')\n",
    "\n",
    "# for each row of the table, find all the table data\n",
    "for row in soup_f.find('table').find_all('tr'):\n",
    "    cells = row.find_all('td')"
   ]
  },
  {
   "cell_type": "code",
   "execution_count": 13,
   "metadata": {},
   "outputs": [],
   "source": [
    "# append the data into the respective lists\n",
    "for row in soup_f.find('table').find_all('tr'):\n",
    "    cells = row.find_all('td')\n",
    "    if(len(cells) > 0):\n",
    "        postalCodeList.append(cells[0].text)\n",
    "        boroughList.append(cells[1].text)\n",
    "        neighborhoodList.append(cells[2].text.rstrip('\\n')) \n",
    "        # must avoid new lines in neighborhood cell"
   ]
  },
  {
   "cell_type": "code",
   "execution_count": 14,
   "metadata": {},
   "outputs": [
    {
     "data": {
      "text/html": [
       "<div>\n",
       "<style scoped>\n",
       "    .dataframe tbody tr th:only-of-type {\n",
       "        vertical-align: middle;\n",
       "    }\n",
       "\n",
       "    .dataframe tbody tr th {\n",
       "        vertical-align: top;\n",
       "    }\n",
       "\n",
       "    .dataframe thead th {\n",
       "        text-align: right;\n",
       "    }\n",
       "</style>\n",
       "<table border=\"1\" class=\"dataframe\">\n",
       "  <thead>\n",
       "    <tr style=\"text-align: right;\">\n",
       "      <th></th>\n",
       "      <th>PostalCode</th>\n",
       "      <th>Borough</th>\n",
       "      <th>Neighborhood</th>\n",
       "    </tr>\n",
       "  </thead>\n",
       "  <tbody>\n",
       "    <tr>\n",
       "      <th>0</th>\n",
       "      <td>M1A</td>\n",
       "      <td>Not assigned</td>\n",
       "      <td>Not assigned</td>\n",
       "    </tr>\n",
       "    <tr>\n",
       "      <th>1</th>\n",
       "      <td>M2A</td>\n",
       "      <td>Not assigned</td>\n",
       "      <td>Not assigned</td>\n",
       "    </tr>\n",
       "    <tr>\n",
       "      <th>2</th>\n",
       "      <td>M3A</td>\n",
       "      <td>North York</td>\n",
       "      <td>Parkwoods</td>\n",
       "    </tr>\n",
       "    <tr>\n",
       "      <th>3</th>\n",
       "      <td>M4A</td>\n",
       "      <td>North York</td>\n",
       "      <td>Victoria Village</td>\n",
       "    </tr>\n",
       "    <tr>\n",
       "      <th>4</th>\n",
       "      <td>M5A</td>\n",
       "      <td>Downtown Toronto</td>\n",
       "      <td>Harbourfront</td>\n",
       "    </tr>\n",
       "  </tbody>\n",
       "</table>\n",
       "</div>"
      ],
      "text/plain": [
       "  PostalCode           Borough      Neighborhood\n",
       "0        M1A      Not assigned      Not assigned\n",
       "1        M2A      Not assigned      Not assigned\n",
       "2        M3A        North York         Parkwoods\n",
       "3        M4A        North York  Victoria Village\n",
       "4        M5A  Downtown Toronto      Harbourfront"
      ]
     },
     "execution_count": 14,
     "metadata": {},
     "output_type": "execute_result"
    }
   ],
   "source": [
    "#a new DataFrame from the three lists\n",
    "toronto_df = pd.DataFrame({\"PostalCode\": postalCodeList,\n",
    "                           \"Borough\": boroughList,\n",
    "                           \"Neighborhood\": neighborhoodList})\n",
    "\n",
    "toronto_df.head()"
   ]
  },
  {
   "cell_type": "markdown",
   "metadata": {},
   "source": [
    "#### 3. \"Not assigned\" is removed from the table"
   ]
  },
  {
   "cell_type": "code",
   "execution_count": 16,
   "metadata": {},
   "outputs": [],
   "source": [
    "toronto_df_dropNa=toronto_df[toronto_df.Borough !=\"Not assigned\"].reset_index(drop=True)"
   ]
  },
  {
   "cell_type": "code",
   "execution_count": 19,
   "metadata": {},
   "outputs": [
    {
     "data": {
      "text/html": [
       "<div>\n",
       "<style scoped>\n",
       "    .dataframe tbody tr th:only-of-type {\n",
       "        vertical-align: middle;\n",
       "    }\n",
       "\n",
       "    .dataframe tbody tr th {\n",
       "        vertical-align: top;\n",
       "    }\n",
       "\n",
       "    .dataframe thead th {\n",
       "        text-align: right;\n",
       "    }\n",
       "</style>\n",
       "<table border=\"1\" class=\"dataframe\">\n",
       "  <thead>\n",
       "    <tr style=\"text-align: right;\">\n",
       "      <th></th>\n",
       "      <th>PostalCode</th>\n",
       "      <th>Borough</th>\n",
       "      <th>Neighborhood</th>\n",
       "    </tr>\n",
       "  </thead>\n",
       "  <tbody>\n",
       "    <tr>\n",
       "      <th>0</th>\n",
       "      <td>M3A</td>\n",
       "      <td>North York</td>\n",
       "      <td>Parkwoods</td>\n",
       "    </tr>\n",
       "    <tr>\n",
       "      <th>1</th>\n",
       "      <td>M4A</td>\n",
       "      <td>North York</td>\n",
       "      <td>Victoria Village</td>\n",
       "    </tr>\n",
       "    <tr>\n",
       "      <th>2</th>\n",
       "      <td>M5A</td>\n",
       "      <td>Downtown Toronto</td>\n",
       "      <td>Harbourfront</td>\n",
       "    </tr>\n",
       "    <tr>\n",
       "      <th>3</th>\n",
       "      <td>M5A</td>\n",
       "      <td>Downtown Toronto</td>\n",
       "      <td>Regent Park</td>\n",
       "    </tr>\n",
       "    <tr>\n",
       "      <th>4</th>\n",
       "      <td>M6A</td>\n",
       "      <td>North York</td>\n",
       "      <td>Lawrence Heights</td>\n",
       "    </tr>\n",
       "  </tbody>\n",
       "</table>\n",
       "</div>"
      ],
      "text/plain": [
       "  PostalCode           Borough      Neighborhood\n",
       "0        M3A        North York         Parkwoods\n",
       "1        M4A        North York  Victoria Village\n",
       "2        M5A  Downtown Toronto      Harbourfront\n",
       "3        M5A  Downtown Toronto       Regent Park\n",
       "4        M6A        North York  Lawrence Heights"
      ]
     },
     "execution_count": 19,
     "metadata": {},
     "output_type": "execute_result"
    }
   ],
   "source": [
    "toronto_df_dropNa.head()"
   ]
  },
  {
   "cell_type": "markdown",
   "metadata": {},
   "source": [
    "#### 4. Group neighborhoods "
   ]
  },
  {
   "cell_type": "code",
   "execution_count": 21,
   "metadata": {},
   "outputs": [],
   "source": [
    "# grouping neighborhoods in the same borough\n",
    "toronto_df_grouped = toronto_df_dropNa.groupby([\"PostalCode\", \"Borough\"], as_index=False).agg(lambda x: \", \".join(x))"
   ]
  },
  {
   "cell_type": "code",
   "execution_count": 22,
   "metadata": {},
   "outputs": [
    {
     "data": {
      "text/html": [
       "<div>\n",
       "<style scoped>\n",
       "    .dataframe tbody tr th:only-of-type {\n",
       "        vertical-align: middle;\n",
       "    }\n",
       "\n",
       "    .dataframe tbody tr th {\n",
       "        vertical-align: top;\n",
       "    }\n",
       "\n",
       "    .dataframe thead th {\n",
       "        text-align: right;\n",
       "    }\n",
       "</style>\n",
       "<table border=\"1\" class=\"dataframe\">\n",
       "  <thead>\n",
       "    <tr style=\"text-align: right;\">\n",
       "      <th></th>\n",
       "      <th>PostalCode</th>\n",
       "      <th>Borough</th>\n",
       "      <th>Neighborhood</th>\n",
       "    </tr>\n",
       "  </thead>\n",
       "  <tbody>\n",
       "    <tr>\n",
       "      <th>0</th>\n",
       "      <td>M1B</td>\n",
       "      <td>Scarborough</td>\n",
       "      <td>Rouge, Malvern, Rouge, Malvern</td>\n",
       "    </tr>\n",
       "    <tr>\n",
       "      <th>1</th>\n",
       "      <td>M1C</td>\n",
       "      <td>Scarborough</td>\n",
       "      <td>Highland Creek, Rouge Hill, Port Union, Highla...</td>\n",
       "    </tr>\n",
       "    <tr>\n",
       "      <th>2</th>\n",
       "      <td>M1E</td>\n",
       "      <td>Scarborough</td>\n",
       "      <td>Guildwood, Morningside, West Hill, Guildwood, ...</td>\n",
       "    </tr>\n",
       "    <tr>\n",
       "      <th>3</th>\n",
       "      <td>M1G</td>\n",
       "      <td>Scarborough</td>\n",
       "      <td>Woburn, Woburn</td>\n",
       "    </tr>\n",
       "    <tr>\n",
       "      <th>4</th>\n",
       "      <td>M1H</td>\n",
       "      <td>Scarborough</td>\n",
       "      <td>Cedarbrae, Cedarbrae</td>\n",
       "    </tr>\n",
       "  </tbody>\n",
       "</table>\n",
       "</div>"
      ],
      "text/plain": [
       "  PostalCode      Borough                                       Neighborhood\n",
       "0        M1B  Scarborough                     Rouge, Malvern, Rouge, Malvern\n",
       "1        M1C  Scarborough  Highland Creek, Rouge Hill, Port Union, Highla...\n",
       "2        M1E  Scarborough  Guildwood, Morningside, West Hill, Guildwood, ...\n",
       "3        M1G  Scarborough                                     Woburn, Woburn\n",
       "4        M1H  Scarborough                               Cedarbrae, Cedarbrae"
      ]
     },
     "execution_count": 22,
     "metadata": {},
     "output_type": "execute_result"
    }
   ],
   "source": [
    "toronto_df_grouped.head()"
   ]
  },
  {
   "cell_type": "markdown",
   "metadata": {},
   "source": [
    "#### 5. For Neighborhood=\"Not assigned\", make the value the same as Borough"
   ]
  },
  {
   "cell_type": "code",
   "execution_count": 23,
   "metadata": {},
   "outputs": [],
   "source": [
    "# for Neighborhood=\"Not assigned\", make the value the same as Borough\n",
    "for index, row in toronto_df_grouped.iterrows():\n",
    "    if row[\"Neighborhood\"] == \"Not assigned\":\n",
    "        row[\"Neighborhood\"] = row[\"Borough\"]"
   ]
  },
  {
   "cell_type": "code",
   "execution_count": 24,
   "metadata": {},
   "outputs": [
    {
     "data": {
      "text/html": [
       "<div>\n",
       "<style scoped>\n",
       "    .dataframe tbody tr th:only-of-type {\n",
       "        vertical-align: middle;\n",
       "    }\n",
       "\n",
       "    .dataframe tbody tr th {\n",
       "        vertical-align: top;\n",
       "    }\n",
       "\n",
       "    .dataframe thead th {\n",
       "        text-align: right;\n",
       "    }\n",
       "</style>\n",
       "<table border=\"1\" class=\"dataframe\">\n",
       "  <thead>\n",
       "    <tr style=\"text-align: right;\">\n",
       "      <th></th>\n",
       "      <th>PostalCode</th>\n",
       "      <th>Borough</th>\n",
       "      <th>Neighborhood</th>\n",
       "    </tr>\n",
       "  </thead>\n",
       "  <tbody>\n",
       "    <tr>\n",
       "      <th>0</th>\n",
       "      <td>M1B</td>\n",
       "      <td>Scarborough</td>\n",
       "      <td>Rouge, Malvern, Rouge, Malvern</td>\n",
       "    </tr>\n",
       "    <tr>\n",
       "      <th>1</th>\n",
       "      <td>M1C</td>\n",
       "      <td>Scarborough</td>\n",
       "      <td>Highland Creek, Rouge Hill, Port Union, Highla...</td>\n",
       "    </tr>\n",
       "    <tr>\n",
       "      <th>2</th>\n",
       "      <td>M1E</td>\n",
       "      <td>Scarborough</td>\n",
       "      <td>Guildwood, Morningside, West Hill, Guildwood, ...</td>\n",
       "    </tr>\n",
       "    <tr>\n",
       "      <th>3</th>\n",
       "      <td>M1G</td>\n",
       "      <td>Scarborough</td>\n",
       "      <td>Woburn, Woburn</td>\n",
       "    </tr>\n",
       "    <tr>\n",
       "      <th>4</th>\n",
       "      <td>M1H</td>\n",
       "      <td>Scarborough</td>\n",
       "      <td>Cedarbrae, Cedarbrae</td>\n",
       "    </tr>\n",
       "  </tbody>\n",
       "</table>\n",
       "</div>"
      ],
      "text/plain": [
       "  PostalCode      Borough                                       Neighborhood\n",
       "0        M1B  Scarborough                     Rouge, Malvern, Rouge, Malvern\n",
       "1        M1C  Scarborough  Highland Creek, Rouge Hill, Port Union, Highla...\n",
       "2        M1E  Scarborough  Guildwood, Morningside, West Hill, Guildwood, ...\n",
       "3        M1G  Scarborough                                     Woburn, Woburn\n",
       "4        M1H  Scarborough                               Cedarbrae, Cedarbrae"
      ]
     },
     "execution_count": 24,
     "metadata": {},
     "output_type": "execute_result"
    }
   ],
   "source": [
    "toronto_df_grouped.head()"
   ]
  },
  {
   "cell_type": "markdown",
   "metadata": {},
   "source": [
    "#### 6. Create a new test data frame"
   ]
  },
  {
   "cell_type": "code",
   "execution_count": 25,
   "metadata": {},
   "outputs": [],
   "source": [
    "# create a new test dataframe\n",
    "column_names = [\"PostalCode\", \"Borough\", \"Neighborhood\"]\n",
    "test_df = pd.DataFrame(columns=column_names)\n",
    "\n",
    "test_list = [\"M5G\", \"M2H\", \"M4B\", \"M1J\", \"M4G\", \"M4M\", \"M1R\", \"M9V\", \"M9L\", \"M5V\", \"M1B\", \"M5A\"]\n",
    "\n",
    "for postcode in test_list:\n",
    "    test_df = test_df.append(toronto_df_grouped[toronto_df_grouped[\"PostalCode\"]==postcode], ignore_index=True)"
   ]
  },
  {
   "cell_type": "code",
   "execution_count": 26,
   "metadata": {},
   "outputs": [
    {
     "data": {
      "text/html": [
       "<div>\n",
       "<style scoped>\n",
       "    .dataframe tbody tr th:only-of-type {\n",
       "        vertical-align: middle;\n",
       "    }\n",
       "\n",
       "    .dataframe tbody tr th {\n",
       "        vertical-align: top;\n",
       "    }\n",
       "\n",
       "    .dataframe thead th {\n",
       "        text-align: right;\n",
       "    }\n",
       "</style>\n",
       "<table border=\"1\" class=\"dataframe\">\n",
       "  <thead>\n",
       "    <tr style=\"text-align: right;\">\n",
       "      <th></th>\n",
       "      <th>PostalCode</th>\n",
       "      <th>Borough</th>\n",
       "      <th>Neighborhood</th>\n",
       "    </tr>\n",
       "  </thead>\n",
       "  <tbody>\n",
       "    <tr>\n",
       "      <th>0</th>\n",
       "      <td>M5G</td>\n",
       "      <td>Downtown Toronto</td>\n",
       "      <td>Central Bay Street, Central Bay Street</td>\n",
       "    </tr>\n",
       "    <tr>\n",
       "      <th>1</th>\n",
       "      <td>M2H</td>\n",
       "      <td>North York</td>\n",
       "      <td>Hillcrest Village, Hillcrest Village</td>\n",
       "    </tr>\n",
       "    <tr>\n",
       "      <th>2</th>\n",
       "      <td>M4B</td>\n",
       "      <td>East York</td>\n",
       "      <td>Woodbine Gardens, Parkview Hill, Woodbine Gard...</td>\n",
       "    </tr>\n",
       "    <tr>\n",
       "      <th>3</th>\n",
       "      <td>M1J</td>\n",
       "      <td>Scarborough</td>\n",
       "      <td>Scarborough Village, Scarborough Village</td>\n",
       "    </tr>\n",
       "    <tr>\n",
       "      <th>4</th>\n",
       "      <td>M4G</td>\n",
       "      <td>East York</td>\n",
       "      <td>Leaside, Leaside</td>\n",
       "    </tr>\n",
       "    <tr>\n",
       "      <th>5</th>\n",
       "      <td>M4M</td>\n",
       "      <td>East Toronto</td>\n",
       "      <td>Studio District, Studio District</td>\n",
       "    </tr>\n",
       "    <tr>\n",
       "      <th>6</th>\n",
       "      <td>M1R</td>\n",
       "      <td>Scarborough</td>\n",
       "      <td>Maryvale, Wexford, Maryvale, Wexford</td>\n",
       "    </tr>\n",
       "    <tr>\n",
       "      <th>7</th>\n",
       "      <td>M9V</td>\n",
       "      <td>Etobicoke</td>\n",
       "      <td>Albion Gardens, Beaumond Heights, Humbergate, ...</td>\n",
       "    </tr>\n",
       "    <tr>\n",
       "      <th>8</th>\n",
       "      <td>M9L</td>\n",
       "      <td>North York</td>\n",
       "      <td>Humber Summit, Humber Summit</td>\n",
       "    </tr>\n",
       "    <tr>\n",
       "      <th>9</th>\n",
       "      <td>M5V</td>\n",
       "      <td>Downtown Toronto</td>\n",
       "      <td>CN Tower, Bathurst Quay, Island airport, Harbo...</td>\n",
       "    </tr>\n",
       "    <tr>\n",
       "      <th>10</th>\n",
       "      <td>M1B</td>\n",
       "      <td>Scarborough</td>\n",
       "      <td>Rouge, Malvern, Rouge, Malvern</td>\n",
       "    </tr>\n",
       "    <tr>\n",
       "      <th>11</th>\n",
       "      <td>M5A</td>\n",
       "      <td>Downtown Toronto</td>\n",
       "      <td>Harbourfront, Regent Park, Harbourfront, Regen...</td>\n",
       "    </tr>\n",
       "  </tbody>\n",
       "</table>\n",
       "</div>"
      ],
      "text/plain": [
       "   PostalCode           Borough  \\\n",
       "0         M5G  Downtown Toronto   \n",
       "1         M2H        North York   \n",
       "2         M4B         East York   \n",
       "3         M1J       Scarborough   \n",
       "4         M4G         East York   \n",
       "5         M4M      East Toronto   \n",
       "6         M1R       Scarborough   \n",
       "7         M9V         Etobicoke   \n",
       "8         M9L        North York   \n",
       "9         M5V  Downtown Toronto   \n",
       "10        M1B       Scarborough   \n",
       "11        M5A  Downtown Toronto   \n",
       "\n",
       "                                         Neighborhood  \n",
       "0              Central Bay Street, Central Bay Street  \n",
       "1                Hillcrest Village, Hillcrest Village  \n",
       "2   Woodbine Gardens, Parkview Hill, Woodbine Gard...  \n",
       "3            Scarborough Village, Scarborough Village  \n",
       "4                                    Leaside, Leaside  \n",
       "5                    Studio District, Studio District  \n",
       "6                Maryvale, Wexford, Maryvale, Wexford  \n",
       "7   Albion Gardens, Beaumond Heights, Humbergate, ...  \n",
       "8                        Humber Summit, Humber Summit  \n",
       "9   CN Tower, Bathurst Quay, Island airport, Harbo...  \n",
       "10                     Rouge, Malvern, Rouge, Malvern  \n",
       "11  Harbourfront, Regent Park, Harbourfront, Regen...  "
      ]
     },
     "execution_count": 26,
     "metadata": {},
     "output_type": "execute_result"
    }
   ],
   "source": [
    "test_df"
   ]
  },
  {
   "cell_type": "markdown",
   "metadata": {},
   "source": [
    "#### 7. The number of rows"
   ]
  },
  {
   "cell_type": "code",
   "execution_count": 29,
   "metadata": {},
   "outputs": [
    {
     "data": {
      "text/plain": [
       "(103, 3)"
      ]
     },
     "execution_count": 29,
     "metadata": {},
     "output_type": "execute_result"
    }
   ],
   "source": [
    "toronto_df_grouped.shape"
   ]
  },
  {
   "cell_type": "markdown",
   "metadata": {},
   "source": [
    "### Week3 Part 2\n",
    "- Toronto geolocation coordinates"
   ]
  },
  {
   "cell_type": "markdown",
   "metadata": {},
   "source": [
    "#### 1. Load the coordinatas form csv file"
   ]
  },
  {
   "cell_type": "code",
   "execution_count": 33,
   "metadata": {},
   "outputs": [
    {
     "data": {
      "text/html": [
       "<div>\n",
       "<style scoped>\n",
       "    .dataframe tbody tr th:only-of-type {\n",
       "        vertical-align: middle;\n",
       "    }\n",
       "\n",
       "    .dataframe tbody tr th {\n",
       "        vertical-align: top;\n",
       "    }\n",
       "\n",
       "    .dataframe thead th {\n",
       "        text-align: right;\n",
       "    }\n",
       "</style>\n",
       "<table border=\"1\" class=\"dataframe\">\n",
       "  <thead>\n",
       "    <tr style=\"text-align: right;\">\n",
       "      <th></th>\n",
       "      <th>PostalCode</th>\n",
       "      <th>Latitude</th>\n",
       "      <th>Longitude</th>\n",
       "    </tr>\n",
       "  </thead>\n",
       "  <tbody>\n",
       "    <tr>\n",
       "      <th>0</th>\n",
       "      <td>M1B</td>\n",
       "      <td>43.806686</td>\n",
       "      <td>-79.194353</td>\n",
       "    </tr>\n",
       "    <tr>\n",
       "      <th>1</th>\n",
       "      <td>M1C</td>\n",
       "      <td>43.784535</td>\n",
       "      <td>-79.160497</td>\n",
       "    </tr>\n",
       "    <tr>\n",
       "      <th>2</th>\n",
       "      <td>M1E</td>\n",
       "      <td>43.763573</td>\n",
       "      <td>-79.188711</td>\n",
       "    </tr>\n",
       "    <tr>\n",
       "      <th>3</th>\n",
       "      <td>M1G</td>\n",
       "      <td>43.770992</td>\n",
       "      <td>-79.216917</td>\n",
       "    </tr>\n",
       "    <tr>\n",
       "      <th>4</th>\n",
       "      <td>M1H</td>\n",
       "      <td>43.773136</td>\n",
       "      <td>-79.239476</td>\n",
       "    </tr>\n",
       "  </tbody>\n",
       "</table>\n",
       "</div>"
      ],
      "text/plain": [
       "  PostalCode   Latitude  Longitude\n",
       "0        M1B  43.806686 -79.194353\n",
       "1        M1C  43.784535 -79.160497\n",
       "2        M1E  43.763573 -79.188711\n",
       "3        M1G  43.770992 -79.216917\n",
       "4        M1H  43.773136 -79.239476"
      ]
     },
     "execution_count": 33,
     "metadata": {},
     "output_type": "execute_result"
    }
   ],
   "source": [
    "##loading the coordinates and rename the column \"PostalCode\"\n",
    "coordinates_pd=pd.read_csv(\"Geospatial_Coordinates.csv\")\n",
    "coordinates_pd.rename(columns={\"Postal Code\": \"PostalCode\"}, inplace=True)\n",
    "coordinates_pd.head()"
   ]
  },
  {
   "cell_type": "markdown",
   "metadata": {},
   "source": [
    "#### 2. Merge the two tables into one"
   ]
  },
  {
   "cell_type": "code",
   "execution_count": 35,
   "metadata": {},
   "outputs": [
    {
     "data": {
      "text/html": [
       "<div>\n",
       "<style scoped>\n",
       "    .dataframe tbody tr th:only-of-type {\n",
       "        vertical-align: middle;\n",
       "    }\n",
       "\n",
       "    .dataframe tbody tr th {\n",
       "        vertical-align: top;\n",
       "    }\n",
       "\n",
       "    .dataframe thead th {\n",
       "        text-align: right;\n",
       "    }\n",
       "</style>\n",
       "<table border=\"1\" class=\"dataframe\">\n",
       "  <thead>\n",
       "    <tr style=\"text-align: right;\">\n",
       "      <th></th>\n",
       "      <th>PostalCode</th>\n",
       "      <th>Borough</th>\n",
       "      <th>Neighborhood</th>\n",
       "      <th>Latitude</th>\n",
       "      <th>Longitude</th>\n",
       "    </tr>\n",
       "  </thead>\n",
       "  <tbody>\n",
       "    <tr>\n",
       "      <th>0</th>\n",
       "      <td>M1B</td>\n",
       "      <td>Scarborough</td>\n",
       "      <td>Rouge, Malvern, Rouge, Malvern</td>\n",
       "      <td>43.806686</td>\n",
       "      <td>-79.194353</td>\n",
       "    </tr>\n",
       "    <tr>\n",
       "      <th>1</th>\n",
       "      <td>M1C</td>\n",
       "      <td>Scarborough</td>\n",
       "      <td>Highland Creek, Rouge Hill, Port Union, Highla...</td>\n",
       "      <td>43.784535</td>\n",
       "      <td>-79.160497</td>\n",
       "    </tr>\n",
       "    <tr>\n",
       "      <th>2</th>\n",
       "      <td>M1E</td>\n",
       "      <td>Scarborough</td>\n",
       "      <td>Guildwood, Morningside, West Hill, Guildwood, ...</td>\n",
       "      <td>43.763573</td>\n",
       "      <td>-79.188711</td>\n",
       "    </tr>\n",
       "    <tr>\n",
       "      <th>3</th>\n",
       "      <td>M1G</td>\n",
       "      <td>Scarborough</td>\n",
       "      <td>Woburn, Woburn</td>\n",
       "      <td>43.770992</td>\n",
       "      <td>-79.216917</td>\n",
       "    </tr>\n",
       "    <tr>\n",
       "      <th>4</th>\n",
       "      <td>M1H</td>\n",
       "      <td>Scarborough</td>\n",
       "      <td>Cedarbrae, Cedarbrae</td>\n",
       "      <td>43.773136</td>\n",
       "      <td>-79.239476</td>\n",
       "    </tr>\n",
       "  </tbody>\n",
       "</table>\n",
       "</div>"
      ],
      "text/plain": [
       "  PostalCode      Borough                                       Neighborhood  \\\n",
       "0        M1B  Scarborough                     Rouge, Malvern, Rouge, Malvern   \n",
       "1        M1C  Scarborough  Highland Creek, Rouge Hill, Port Union, Highla...   \n",
       "2        M1E  Scarborough  Guildwood, Morningside, West Hill, Guildwood, ...   \n",
       "3        M1G  Scarborough                                     Woburn, Woburn   \n",
       "4        M1H  Scarborough                               Cedarbrae, Cedarbrae   \n",
       "\n",
       "    Latitude  Longitude  \n",
       "0  43.806686 -79.194353  \n",
       "1  43.784535 -79.160497  \n",
       "2  43.763573 -79.188711  \n",
       "3  43.770992 -79.216917  \n",
       "4  43.773136 -79.239476  "
      ]
     },
     "execution_count": 35,
     "metadata": {},
     "output_type": "execute_result"
    }
   ],
   "source": [
    "# merge two table on the column \"PostalCode\"\n",
    "toronto_df_new = toronto_df_grouped.merge(coordinates_pd, on=\"PostalCode\", how=\"left\")\n",
    "toronto_df_new.head()"
   ]
  },
  {
   "cell_type": "markdown",
   "metadata": {},
   "source": [
    "#### 3. Results"
   ]
  },
  {
   "cell_type": "code",
   "execution_count": 41,
   "metadata": {},
   "outputs": [],
   "source": [
    "# create a new test dataframe\n",
    "column_names = [\"PostalCode\", \"Borough\", \"Neighborhood\", \"Latitude\", \"Longitude\"]\n",
    "test_df = pd.DataFrame(columns=column_names)\n",
    "\n",
    "test_list = [\"M5G\", \"M2H\", \"M4B\", \"M1J\", \"M4G\", \"M4M\", \"M1R\", \"M9V\", \"M9L\", \"M5V\", \"M1B\", \"M5A\"]\n",
    "\n",
    "for postcode in test_list:\n",
    "    test_df = test_df.append(toronto_df_new[toronto_df_new[\"PostalCode\"]==postcode], ignore_index=True)\n",
    "    \n"
   ]
  },
  {
   "cell_type": "code",
   "execution_count": 42,
   "metadata": {},
   "outputs": [
    {
     "data": {
      "text/html": [
       "<div>\n",
       "<style scoped>\n",
       "    .dataframe tbody tr th:only-of-type {\n",
       "        vertical-align: middle;\n",
       "    }\n",
       "\n",
       "    .dataframe tbody tr th {\n",
       "        vertical-align: top;\n",
       "    }\n",
       "\n",
       "    .dataframe thead th {\n",
       "        text-align: right;\n",
       "    }\n",
       "</style>\n",
       "<table border=\"1\" class=\"dataframe\">\n",
       "  <thead>\n",
       "    <tr style=\"text-align: right;\">\n",
       "      <th></th>\n",
       "      <th>PostalCode</th>\n",
       "      <th>Borough</th>\n",
       "      <th>Neighborhood</th>\n",
       "      <th>Latitude</th>\n",
       "      <th>Longitude</th>\n",
       "    </tr>\n",
       "  </thead>\n",
       "  <tbody>\n",
       "    <tr>\n",
       "      <th>0</th>\n",
       "      <td>M5G</td>\n",
       "      <td>Downtown Toronto</td>\n",
       "      <td>Central Bay Street, Central Bay Street</td>\n",
       "      <td>43.657952</td>\n",
       "      <td>-79.387383</td>\n",
       "    </tr>\n",
       "    <tr>\n",
       "      <th>1</th>\n",
       "      <td>M2H</td>\n",
       "      <td>North York</td>\n",
       "      <td>Hillcrest Village, Hillcrest Village</td>\n",
       "      <td>43.803762</td>\n",
       "      <td>-79.363452</td>\n",
       "    </tr>\n",
       "    <tr>\n",
       "      <th>2</th>\n",
       "      <td>M4B</td>\n",
       "      <td>East York</td>\n",
       "      <td>Woodbine Gardens, Parkview Hill, Woodbine Gard...</td>\n",
       "      <td>43.706397</td>\n",
       "      <td>-79.309937</td>\n",
       "    </tr>\n",
       "    <tr>\n",
       "      <th>3</th>\n",
       "      <td>M1J</td>\n",
       "      <td>Scarborough</td>\n",
       "      <td>Scarborough Village, Scarborough Village</td>\n",
       "      <td>43.744734</td>\n",
       "      <td>-79.239476</td>\n",
       "    </tr>\n",
       "    <tr>\n",
       "      <th>4</th>\n",
       "      <td>M4G</td>\n",
       "      <td>East York</td>\n",
       "      <td>Leaside, Leaside</td>\n",
       "      <td>43.709060</td>\n",
       "      <td>-79.363452</td>\n",
       "    </tr>\n",
       "    <tr>\n",
       "      <th>5</th>\n",
       "      <td>M4M</td>\n",
       "      <td>East Toronto</td>\n",
       "      <td>Studio District, Studio District</td>\n",
       "      <td>43.659526</td>\n",
       "      <td>-79.340923</td>\n",
       "    </tr>\n",
       "    <tr>\n",
       "      <th>6</th>\n",
       "      <td>M1R</td>\n",
       "      <td>Scarborough</td>\n",
       "      <td>Maryvale, Wexford, Maryvale, Wexford</td>\n",
       "      <td>43.750072</td>\n",
       "      <td>-79.295849</td>\n",
       "    </tr>\n",
       "    <tr>\n",
       "      <th>7</th>\n",
       "      <td>M9V</td>\n",
       "      <td>Etobicoke</td>\n",
       "      <td>Albion Gardens, Beaumond Heights, Humbergate, ...</td>\n",
       "      <td>43.739416</td>\n",
       "      <td>-79.588437</td>\n",
       "    </tr>\n",
       "    <tr>\n",
       "      <th>8</th>\n",
       "      <td>M9L</td>\n",
       "      <td>North York</td>\n",
       "      <td>Humber Summit, Humber Summit</td>\n",
       "      <td>43.756303</td>\n",
       "      <td>-79.565963</td>\n",
       "    </tr>\n",
       "    <tr>\n",
       "      <th>9</th>\n",
       "      <td>M5V</td>\n",
       "      <td>Downtown Toronto</td>\n",
       "      <td>CN Tower, Bathurst Quay, Island airport, Harbo...</td>\n",
       "      <td>43.628947</td>\n",
       "      <td>-79.394420</td>\n",
       "    </tr>\n",
       "    <tr>\n",
       "      <th>10</th>\n",
       "      <td>M1B</td>\n",
       "      <td>Scarborough</td>\n",
       "      <td>Rouge, Malvern, Rouge, Malvern</td>\n",
       "      <td>43.806686</td>\n",
       "      <td>-79.194353</td>\n",
       "    </tr>\n",
       "    <tr>\n",
       "      <th>11</th>\n",
       "      <td>M5A</td>\n",
       "      <td>Downtown Toronto</td>\n",
       "      <td>Harbourfront, Regent Park, Harbourfront, Regen...</td>\n",
       "      <td>43.654260</td>\n",
       "      <td>-79.360636</td>\n",
       "    </tr>\n",
       "  </tbody>\n",
       "</table>\n",
       "</div>"
      ],
      "text/plain": [
       "   PostalCode           Borough  \\\n",
       "0         M5G  Downtown Toronto   \n",
       "1         M2H        North York   \n",
       "2         M4B         East York   \n",
       "3         M1J       Scarborough   \n",
       "4         M4G         East York   \n",
       "5         M4M      East Toronto   \n",
       "6         M1R       Scarborough   \n",
       "7         M9V         Etobicoke   \n",
       "8         M9L        North York   \n",
       "9         M5V  Downtown Toronto   \n",
       "10        M1B       Scarborough   \n",
       "11        M5A  Downtown Toronto   \n",
       "\n",
       "                                         Neighborhood   Latitude  Longitude  \n",
       "0              Central Bay Street, Central Bay Street  43.657952 -79.387383  \n",
       "1                Hillcrest Village, Hillcrest Village  43.803762 -79.363452  \n",
       "2   Woodbine Gardens, Parkview Hill, Woodbine Gard...  43.706397 -79.309937  \n",
       "3            Scarborough Village, Scarborough Village  43.744734 -79.239476  \n",
       "4                                    Leaside, Leaside  43.709060 -79.363452  \n",
       "5                    Studio District, Studio District  43.659526 -79.340923  \n",
       "6                Maryvale, Wexford, Maryvale, Wexford  43.750072 -79.295849  \n",
       "7   Albion Gardens, Beaumond Heights, Humbergate, ...  43.739416 -79.588437  \n",
       "8                        Humber Summit, Humber Summit  43.756303 -79.565963  \n",
       "9   CN Tower, Bathurst Quay, Island airport, Harbo...  43.628947 -79.394420  \n",
       "10                     Rouge, Malvern, Rouge, Malvern  43.806686 -79.194353  \n",
       "11  Harbourfront, Regent Park, Harbourfront, Regen...  43.654260 -79.360636  "
      ]
     },
     "execution_count": 42,
     "metadata": {},
     "output_type": "execute_result"
    }
   ],
   "source": [
    "test_df"
   ]
  },
  {
   "cell_type": "markdown",
   "metadata": {},
   "source": [
    "### Week3 Part 3\n",
    "- Explore and cluster the neighborhoods in Toronto"
   ]
  },
  {
   "cell_type": "markdown",
   "metadata": {},
   "source": [
    "#### 1.  To get the latitude and longitude values of Toronto \"Geopy library\" is using"
   ]
  },
  {
   "cell_type": "code",
   "execution_count": 43,
   "metadata": {},
   "outputs": [
    {
     "name": "stdout",
     "output_type": "stream",
     "text": [
      "The geograpical coordinate of Toronto are 43.653963, -79.387207.\n"
     ]
    }
   ],
   "source": [
    "address = 'Toronto'\n",
    "\n",
    "geolocator = Nominatim(user_agent=\"my-application\")\n",
    "location = geolocator.geocode(address)\n",
    "latitude = location.latitude\n",
    "longitude = location.longitude\n",
    "print('The geograpical coordinate of Toronto are {}, {}.'.format(latitude, longitude))"
   ]
  },
  {
   "cell_type": "markdown",
   "metadata": {},
   "source": [
    "#### 2. Create a map of Toronto"
   ]
  },
  {
   "cell_type": "code",
   "execution_count": 44,
   "metadata": {},
   "outputs": [],
   "source": [
    "# create map of Toronto using latitude and longitude values\n",
    "map_toronto = folium.Map(location=[latitude, longitude], zoom_start=10)\n",
    "\n",
    "# add markers to map\n",
    "for lat, lng, borough, neighborhood in zip(toronto_df_new['Latitude'], toronto_df_new['Longitude'], toronto_df_new['Borough'], toronto_df_new['Neighborhood']):\n",
    "    label = '{}, {}'.format(neighborhood, borough)\n",
    "    label = folium.Popup(label, parse_html=True)\n",
    "    folium.CircleMarker(\n",
    "        [lat, lng],\n",
    "        radius=5,\n",
    "        popup=label,\n",
    "        color='blue',\n",
    "        fill=True,\n",
    "        fill_color='#3186cc',\n",
    "        fill_opacity=0.7).add_to(map_toronto)"
   ]
  },
  {
   "cell_type": "code",
   "execution_count": 45,
   "metadata": {},
   "outputs": [
    {
     "data": {
      "text/html": [
       "<div style=\"width:100%;\"><div style=\"position:relative;width:100%;height:0;padding-bottom:60%;\"><iframe src=\"data:text/html;charset=utf-8;base64,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\" style=\"position:absolute;width:100%;height:100%;left:0;top:0;border:none !important;\" allowfullscreen webkitallowfullscreen mozallowfullscreen></iframe></div></div>"
      ],
      "text/plain": [
       "<folium.folium.Map at 0x7fe7d05be828>"
      ]
     },
     "execution_count": 45,
     "metadata": {},
     "output_type": "execute_result"
    }
   ],
   "source": [
    "map_toronto"
   ]
  },
  {
   "cell_type": "markdown",
   "metadata": {},
   "source": [
    "#### 3. Filter for \"Toronto\" words"
   ]
  },
  {
   "cell_type": "code",
   "execution_count": 46,
   "metadata": {},
   "outputs": [],
   "source": [
    "# filter borough names that contain the word \"Toronto\"\n",
    "borough_names = list(toronto_df_new.Borough.unique())\n",
    "\n",
    "borough_with_toronto = []\n",
    "\n",
    "for x in borough_names:\n",
    "    if \"toronto\" in x.lower():\n",
    "        borough_with_toronto.append(x)"
   ]
  },
  {
   "cell_type": "code",
   "execution_count": 47,
   "metadata": {},
   "outputs": [
    {
     "data": {
      "text/plain": [
       "['East Toronto', 'Central Toronto', 'Downtown Toronto', 'West Toronto']"
      ]
     },
     "execution_count": 47,
     "metadata": {},
     "output_type": "execute_result"
    }
   ],
   "source": [
    "borough_with_toronto"
   ]
  },
  {
   "cell_type": "code",
   "execution_count": 48,
   "metadata": {},
   "outputs": [
    {
     "name": "stdout",
     "output_type": "stream",
     "text": [
      "(38, 5)\n"
     ]
    }
   ],
   "source": [
    "#create a new DataFrame with only boroughs that contain the word Toronto\n",
    "toronto_df_new = toronto_df_new[toronto_df_new['Borough'].isin(borough_with_toronto)].reset_index(drop=True)\n",
    "print(toronto_df_new.shape)"
   ]
  },
  {
   "cell_type": "code",
   "execution_count": 49,
   "metadata": {},
   "outputs": [
    {
     "data": {
      "text/html": [
       "<div>\n",
       "<style scoped>\n",
       "    .dataframe tbody tr th:only-of-type {\n",
       "        vertical-align: middle;\n",
       "    }\n",
       "\n",
       "    .dataframe tbody tr th {\n",
       "        vertical-align: top;\n",
       "    }\n",
       "\n",
       "    .dataframe thead th {\n",
       "        text-align: right;\n",
       "    }\n",
       "</style>\n",
       "<table border=\"1\" class=\"dataframe\">\n",
       "  <thead>\n",
       "    <tr style=\"text-align: right;\">\n",
       "      <th></th>\n",
       "      <th>PostalCode</th>\n",
       "      <th>Borough</th>\n",
       "      <th>Neighborhood</th>\n",
       "      <th>Latitude</th>\n",
       "      <th>Longitude</th>\n",
       "    </tr>\n",
       "  </thead>\n",
       "  <tbody>\n",
       "    <tr>\n",
       "      <th>0</th>\n",
       "      <td>M4E</td>\n",
       "      <td>East Toronto</td>\n",
       "      <td>The Beaches, The Beaches</td>\n",
       "      <td>43.676357</td>\n",
       "      <td>-79.293031</td>\n",
       "    </tr>\n",
       "    <tr>\n",
       "      <th>1</th>\n",
       "      <td>M4K</td>\n",
       "      <td>East Toronto</td>\n",
       "      <td>The Danforth West, Riverdale, The Danforth Wes...</td>\n",
       "      <td>43.679557</td>\n",
       "      <td>-79.352188</td>\n",
       "    </tr>\n",
       "    <tr>\n",
       "      <th>2</th>\n",
       "      <td>M4L</td>\n",
       "      <td>East Toronto</td>\n",
       "      <td>The Beaches West, India Bazaar, The Beaches We...</td>\n",
       "      <td>43.668999</td>\n",
       "      <td>-79.315572</td>\n",
       "    </tr>\n",
       "    <tr>\n",
       "      <th>3</th>\n",
       "      <td>M4M</td>\n",
       "      <td>East Toronto</td>\n",
       "      <td>Studio District, Studio District</td>\n",
       "      <td>43.659526</td>\n",
       "      <td>-79.340923</td>\n",
       "    </tr>\n",
       "    <tr>\n",
       "      <th>4</th>\n",
       "      <td>M4N</td>\n",
       "      <td>Central Toronto</td>\n",
       "      <td>Lawrence Park, Lawrence Park</td>\n",
       "      <td>43.728020</td>\n",
       "      <td>-79.388790</td>\n",
       "    </tr>\n",
       "  </tbody>\n",
       "</table>\n",
       "</div>"
      ],
      "text/plain": [
       "  PostalCode          Borough  \\\n",
       "0        M4E     East Toronto   \n",
       "1        M4K     East Toronto   \n",
       "2        M4L     East Toronto   \n",
       "3        M4M     East Toronto   \n",
       "4        M4N  Central Toronto   \n",
       "\n",
       "                                        Neighborhood   Latitude  Longitude  \n",
       "0                           The Beaches, The Beaches  43.676357 -79.293031  \n",
       "1  The Danforth West, Riverdale, The Danforth Wes...  43.679557 -79.352188  \n",
       "2  The Beaches West, India Bazaar, The Beaches We...  43.668999 -79.315572  \n",
       "3                   Studio District, Studio District  43.659526 -79.340923  \n",
       "4                       Lawrence Park, Lawrence Park  43.728020 -79.388790  "
      ]
     },
     "execution_count": 49,
     "metadata": {},
     "output_type": "execute_result"
    }
   ],
   "source": [
    "toronto_df_new.head()"
   ]
  },
  {
   "cell_type": "code",
   "execution_count": 50,
   "metadata": {},
   "outputs": [],
   "source": [
    "# create map of Toronto using latitude and longitude values\n",
    "map_toronto = folium.Map(location=[latitude, longitude], zoom_start=10)\n",
    "\n",
    "# add markers to map\n",
    "for lat, lng, borough, neighborhood in zip(toronto_df_new['Latitude'], toronto_df_new['Longitude'], toronto_df_new['Borough'], toronto_df_new['Neighborhood']):\n",
    "    label = '{}, {}'.format(neighborhood, borough)\n",
    "    label = folium.Popup(label, parse_html=True)\n",
    "    folium.CircleMarker(\n",
    "        [lat, lng],\n",
    "        radius=5,\n",
    "        popup=label,\n",
    "        color='blue',\n",
    "        fill=True,\n",
    "        fill_color='#3186cc',\n",
    "        fill_opacity=0.7).add_to(map_toronto)  "
   ]
  },
  {
   "cell_type": "code",
   "execution_count": 51,
   "metadata": {},
   "outputs": [
    {
     "data": {
      "text/html": [
       "<div style=\"width:100%;\"><div style=\"position:relative;width:100%;height:0;padding-bottom:60%;\"><iframe src=\"data:text/html;charset=utf-8;base64,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\" style=\"position:absolute;width:100%;height:100%;left:0;top:0;border:none !important;\" allowfullscreen webkitallowfullscreen mozallowfullscreen></iframe></div></div>"
      ],
      "text/plain": [
       "<folium.folium.Map at 0x7fe7d04475c0>"
      ]
     },
     "execution_count": 51,
     "metadata": {},
     "output_type": "execute_result"
    }
   ],
   "source": [
    "map_toronto"
   ]
  },
  {
   "cell_type": "markdown",
   "metadata": {},
   "source": [
    "#### 4. Clusterning\n"
   ]
  },
  {
   "cell_type": "code",
   "execution_count": null,
   "metadata": {},
   "outputs": [],
   "source": []
  }
 ],
 "metadata": {
  "kernelspec": {
   "display_name": "Python 3",
   "language": "python",
   "name": "python3"
  },
  "language_info": {
   "codemirror_mode": {
    "name": "ipython",
    "version": 3
   },
   "file_extension": ".py",
   "mimetype": "text/x-python",
   "name": "python",
   "nbconvert_exporter": "python",
   "pygments_lexer": "ipython3",
   "version": "3.7.3"
  }
 },
 "nbformat": 4,
 "nbformat_minor": 2
}
